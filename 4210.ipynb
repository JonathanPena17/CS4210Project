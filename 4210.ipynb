{
  "nbformat": 4,
  "nbformat_minor": 0,
  "metadata": {
    "colab": {
      "provenance": []
    },
    "kernelspec": {
      "name": "python3",
      "display_name": "Python 3"
    },
    "language_info": {
      "name": "python"
    }
  },
  "cells": [
    {
      "cell_type": "code",
      "execution_count": null,
      "metadata": {
        "id": "GYvRlueziin_"
      },
      "outputs": [],
      "source": [
        "\n",
        "\n",
        "import numpy as np\n",
        "import matplotlib.pyplot as plt\n",
        "import pandas as pd\n",
        "pd.set_option('display.max_columns', None)\n",
        "pd.set_option('display.max_rows', None)\n",
        "import seaborn as sns\n",
        "from sklearn.preprocessing import LabelEncoder\n",
        "from sklearn.model_selection import GridSearchCV, train_test_split, cross_val_score\n",
        "from sklearn.linear_model import LinearRegression\n",
        "from sklearn.ensemble import RandomForestRegressor\n",
        "from sklearn.metrics import r2_score, mean_absolute_error, mean_squared_error\n",
        "\n"
      ]
    },
    {
      "cell_type": "code",
      "source": [
        "df=pd.read_csv('global-data-on-sustainable-energy.csv')\n",
        "df=df.rename(columns={'Value_co2_emissions_kt_by_country':'CO2'})"
      ],
      "metadata": {
        "id": "ClhT6uXNinHj"
      },
      "execution_count": null,
      "outputs": []
    },
    {
      "cell_type": "code",
      "source": [
        "#Perform shifting step on label column\n",
        "\"\"\"year_prediction_window = 19\n",
        "\n",
        "df = df.groupby(\"Entity\")\n",
        "entities = []\n",
        "for entity_group in df.groups.keys():\n",
        "    year_shifted_entity_group = df.get_group(entity_group)\n",
        "    year_shifted_entity_group[\"CO2\"] = year_shifted_entity_group[\"CO2\"].shift(-1 * year_prediction_window)\n",
        "    entities.append(year_shifted_entity_group)\n",
        "df = pd.concat(entities)\"\"\"\n",
        "\n",
        "\n"
      ],
      "metadata": {
        "colab": {
          "base_uri": "https://localhost:8080/",
          "height": 88
        },
        "id": "6kP9LWiRiuYo",
        "outputId": "6e6e5ef3-2761-47fd-a55d-bf6d0a25a9fd"
      },
      "execution_count": null,
      "outputs": [
        {
          "output_type": "execute_result",
          "data": {
            "text/plain": [
              "'year_prediction_window = 19\\n\\ndf = df.groupby(\"Entity\")\\nentities = []\\nfor entity_group in df.groups.keys():\\n    year_shifted_entity_group = df.get_group(entity_group)\\n    year_shifted_entity_group[\"CO2\"] = year_shifted_entity_group[\"CO2\"].shift(-1 * year_prediction_window)\\n    entities.append(year_shifted_entity_group)\\ndf = pd.concat(entities)'"
            ],
            "application/vnd.google.colaboratory.intrinsic+json": {
              "type": "string"
            }
          },
          "metadata": {},
          "execution_count": 233
        }
      ]
    },
    {
      "cell_type": "code",
      "source": [
        "\n",
        "#Fill in missing values in the C02 column with the last known value\n",
        "df['CO2'].fillna(method='ffill', inplace=True)\n"
      ],
      "metadata": {
        "id": "RRfR9HAavMz2"
      },
      "execution_count": null,
      "outputs": []
    },
    {
      "cell_type": "code",
      "source": [
        "plt.figure(figsize=(30,30))\n",
        "Corr_Matrix=df.corr()\n",
        "sns.heatmap(df.corr(), annot=True, fmt=\".2f\")\n",
        "#plt.show()"
      ],
      "metadata": {
        "id": "tLUID5bliwih"
      },
      "execution_count": null,
      "outputs": []
    },
    {
      "cell_type": "code",
      "source": [
        "print('Top 5 Most Positively Correlated to the Target Variable')\n",
        "Corr_Matrix['CO2'].sort_values(ascending=False).head(5)"
      ],
      "metadata": {
        "colab": {
          "base_uri": "https://localhost:8080/"
        },
        "id": "ZipCZKbUi1o_",
        "outputId": "51fde887-f38e-4232-b038-52af61101719"
      },
      "execution_count": null,
      "outputs": [
        {
          "output_type": "stream",
          "name": "stdout",
          "text": [
            "Top 5 Most Positively Correlated to the Target Variable\n"
          ]
        },
        {
          "output_type": "execute_result",
          "data": {
            "text/plain": [
              "CO2                                    1.000000\n",
              "Electricity from fossil fuels (TWh)    0.989334\n",
              "Electricity from renewables (TWh)      0.858493\n",
              "Land Area(Km2)                         0.648807\n",
              "Electricity from nuclear (TWh)         0.603900\n",
              "Name: CO2, dtype: float64"
            ]
          },
          "metadata": {},
          "execution_count": 236
        }
      ]
    },
    {
      "cell_type": "code",
      "source": [
        "print('Top 5 Most Negatively Correlated to the Target Variable')\n",
        "Corr_Matrix['CO2'].sort_values(ascending=True).head(5)"
      ],
      "metadata": {
        "colab": {
          "base_uri": "https://localhost:8080/"
        },
        "id": "zRB-qqAqi2-V",
        "outputId": "23a6673f-e838-4122-d5e4-e2ad070ee55c"
      },
      "execution_count": null,
      "outputs": [
        {
          "output_type": "stream",
          "name": "stdout",
          "text": [
            "Top 5 Most Negatively Correlated to the Target Variable\n"
          ]
        },
        {
          "output_type": "execute_result",
          "data": {
            "text/plain": [
              "Renewable energy share in the total final energy consumption (%)   -0.121950\n",
              "Renewables (% equivalent primary energy)                           -0.068848\n",
              "Low-carbon electricity (% electricity)                             -0.045195\n",
              "Year                                                                0.022515\n",
              "gdp_growth                                                          0.030372\n",
              "Name: CO2, dtype: float64"
            ]
          },
          "metadata": {},
          "execution_count": 237
        }
      ]
    },
    {
      "cell_type": "code",
      "source": [
        "columns_to_drop = [col for col in Corr_Matrix.columns if abs(Corr_Matrix.loc['CO2', col]) < 0.5]\n",
        "columns_to_drop\n",
        "df = df.drop(columns_to_drop, axis=1)\n",
        "df=df.dropna()"
      ],
      "metadata": {
        "id": "RJqgqtL_i7i8"
      },
      "execution_count": null,
      "outputs": []
    },
    {
      "cell_type": "code",
      "source": [
        "df.rename(columns={'Density\\\\n(P/Km2)': 'New_Density'}, inplace=True)\n",
        "df['New_Density'] = df['New_Density'].str.replace(',', '').astype(int)\n",
        "df.rename(columns={'Land Area(Km2)': 'Land'}, inplace=True)\n",
        "#df"
      ],
      "metadata": {
        "id": "cOa__pDSi_Uu"
      },
      "execution_count": null,
      "outputs": []
    },
    {
      "cell_type": "code",
      "source": [
        "le = LabelEncoder()\n",
        "df.Entity = le.fit_transform(df.Entity)\n",
        "#print(df.Entity)"
      ],
      "metadata": {
        "id": "1f6N58gIK91C"
      },
      "execution_count": null,
      "outputs": []
    },
    {
      "cell_type": "code",
      "source": [
        "\"\"\"X = df.drop(columns=['CO2'])\n",
        "y = df['CO2']\n",
        "\n",
        "X_train, X_test, y_train, y_test = train_test_split(X, y, test_size=0.2, random_state=42)\n",
        "# Display the shapes of the resulting datasets\n",
        "print(\"X_train shape:\", X_train.shape)\n",
        "print(\"X_test shape:\", X_test.shape)\n",
        "print(\"y_train shape:\", y_train.shape)\n",
        "print(\"y_test shape:\", y_test.shape)\"\"\"\n",
        "#Split data into train/test split\n",
        "\n",
        "#valid_entities = df.groupby(\"Entity\").filter(lambda x: len(x) >= 20)\n",
        "#split_index = valid_entities.groupby(\"Entity\").head(10).index.max() + 1  #19 rows for training, 1 for testing\n",
        "\n",
        "split_index = df.groupby(\"Entity\").size().min()  #Take the minimum number of rows for any entity\n",
        "#in this case the minimum is 8, so its predicting 16 years in the future\n",
        "\n",
        "train_data = df.iloc[:split_index]\n",
        "test_data = df.iloc[split_index:]\n",
        "\n",
        "X_train = train_data.drop(columns=['CO2'])\n",
        "y_train = train_data['CO2']\n",
        "X_test = test_data.drop(columns=['CO2'])\n",
        "y_test = test_data['CO2']"
      ],
      "metadata": {
        "id": "Lx5z7Q6BjWH0"
      },
      "execution_count": null,
      "outputs": []
    },
    {
      "cell_type": "code",
      "source": [
        "print(X_train.shape, y_train.shape)\n",
        "print(X_test.shape, y_test.shape)"
      ],
      "metadata": {
        "colab": {
          "base_uri": "https://localhost:8080/"
        },
        "id": "tOcP-hA1Ceb3",
        "outputId": "34e3657b-6133-4256-90ed-8b835a6bc87c"
      },
      "execution_count": null,
      "outputs": [
        {
          "output_type": "stream",
          "name": "stdout",
          "text": [
            "(8, 6) (8,)\n",
            "(3514, 6) (3514,)\n"
          ]
        }
      ]
    },
    {
      "cell_type": "code",
      "source": [
        "print(X_train)"
      ],
      "metadata": {
        "colab": {
          "base_uri": "https://localhost:8080/"
        },
        "id": "cfbvgI2pPAW7",
        "outputId": "e456e06d-b39f-4e1f-ad7d-922cf3754433"
      },
      "execution_count": null,
      "outputs": [
        {
          "output_type": "stream",
          "name": "stdout",
          "text": [
            "   Entity  Electricity from fossil fuels (TWh)  \\\n",
            "0       0                                 0.16   \n",
            "1       0                                 0.09   \n",
            "2       0                                 0.13   \n",
            "3       0                                 0.31   \n",
            "4       0                                 0.33   \n",
            "5       0                                 0.34   \n",
            "6       0                                 0.20   \n",
            "7       0                                 0.20   \n",
            "\n",
            "   Electricity from nuclear (TWh)  Electricity from renewables (TWh)  \\\n",
            "0                             0.0                               0.31   \n",
            "1                             0.0                               0.50   \n",
            "2                             0.0                               0.56   \n",
            "3                             0.0                               0.63   \n",
            "4                             0.0                               0.56   \n",
            "5                             0.0                               0.59   \n",
            "6                             0.0                               0.64   \n",
            "7                             0.0                               0.75   \n",
            "\n",
            "   New_Density      Land  \n",
            "0           60  652230.0  \n",
            "1           60  652230.0  \n",
            "2           60  652230.0  \n",
            "3           60  652230.0  \n",
            "4           60  652230.0  \n",
            "5           60  652230.0  \n",
            "6           60  652230.0  \n",
            "7           60  652230.0  \n"
          ]
        }
      ]
    },
    {
      "cell_type": "code",
      "source": [
        "models = {\n",
        "    'Linear Regression': LinearRegression(),\n",
        "    'Random Forest': RandomForestRegressor(random_state=42),\n",
        "}\n",
        "best_model = None\n",
        "best_r2 = 0\n",
        "\n",
        "for model_name, model in models.items():\n",
        "    model.fit(X_train, y_train)\n",
        "    y_pred= model.predict(X_test)\n",
        "\n",
        "    # Evaluate the model\n",
        "    r2 = r2_score(y_test, y_pred)\n",
        "    mae = mean_absolute_error(y_test, y_pred)\n",
        "    rmse = np.sqrt(mean_squared_error(y_test, y_pred))\n",
        "    submit = pd.DataFrame()\n",
        "    submit['Actual CO2'] = y_test\n",
        "    submit['Predict_CO2'] = y_pred\n",
        "    submit = submit.reset_index()\n",
        "    r2 = r2_score(y_test, y_pred)\n",
        "    if r2 > best_r2:\n",
        "        best_r2 = r2\n",
        "        best_model = model.__class__.__name__\n",
        "\n",
        "    print(f'{model_name}:')\n",
        "    print(f'R2 Score: {r2:.2f}')\n",
        "    print(f'Mean Absolute Error (MAE): {mae:.2f}')\n",
        "    print(f'Root Mean Squared Error (RMSE): {rmse:.2f}')\n",
        "    print(submit.head(5))\n",
        "\n",
        "    print('----------------------------------------')\n",
        "print(f\"The best performing model is: {best_model} with r2: {best_r2:.2f}\")"
      ],
      "metadata": {
        "colab": {
          "base_uri": "https://localhost:8080/"
        },
        "id": "JMPR1DR9jYj_",
        "outputId": "3f6c1c41-dc31-4427-f05a-dbbe86132d44"
      },
      "execution_count": null,
      "outputs": [
        {
          "output_type": "stream",
          "name": "stdout",
          "text": [
            "Linear Regression:\n",
            "R2 Score: 0.77\n",
            "Mean Absolute Error (MAE): 80484.27\n",
            "Root Mean Squared Error (RMSE): 367746.48\n",
            "   index   Actual CO2  Predict_CO2\n",
            "0      8  3559.999943  1145.039979\n",
            "1      9  4880.000114  1729.268717\n",
            "2     10  7110.000134  1671.365724\n",
            "3     11  8930.000305  1289.656630\n",
            "4     12  8079.999924  1617.491929\n",
            "----------------------------------------\n",
            "Random Forest:\n",
            "R2 Score: -0.04\n",
            "Mean Absolute Error (MAE): 147756.69\n",
            "Root Mean Squared Error (RMSE): 781600.73\n",
            "   index   Actual CO2  Predict_CO2\n",
            "0      8  3559.999943  1061.999980\n",
            "1      9  4880.000114  1585.599985\n",
            "2     10  7110.000134  1695.799985\n",
            "3     11  8930.000305  1443.599994\n",
            "4     12  8079.999924  1577.899985\n",
            "----------------------------------------\n",
            "The best performing model is: LinearRegression with r2: 0.77\n"
          ]
        }
      ]
    },
    {
      "cell_type": "code",
      "source": [
        "cv_scores = cross_val_score(model, X_train, y_train, cv=5, scoring='r2')\n",
        "print(f'Cross-Validation R2 Scores: {cv_scores}')"
      ],
      "metadata": {
        "colab": {
          "base_uri": "https://localhost:8080/"
        },
        "id": "xiJYdlHr2YUg",
        "outputId": "e7a36903-680e-4665-e762-ae4912e7f5f3"
      },
      "execution_count": null,
      "outputs": [
        {
          "output_type": "stream",
          "name": "stdout",
          "text": [
            "Cross-Validation R2 Scores: [-6.38067522e+02 -7.47446088e+00  1.65209751e-01             nan\n",
            "             nan]\n"
          ]
        },
        {
          "output_type": "stream",
          "name": "stderr",
          "text": [
            "/usr/local/lib/python3.10/dist-packages/sklearn/metrics/_regression.py:918: UndefinedMetricWarning: R^2 score is not well-defined with less than two samples.\n",
            "  warnings.warn(msg, UndefinedMetricWarning)\n",
            "/usr/local/lib/python3.10/dist-packages/sklearn/metrics/_regression.py:918: UndefinedMetricWarning: R^2 score is not well-defined with less than two samples.\n",
            "  warnings.warn(msg, UndefinedMetricWarning)\n"
          ]
        }
      ]
    },
    {
      "cell_type": "code",
      "source": [],
      "metadata": {
        "id": "ipYBCVYIjbvz"
      },
      "execution_count": null,
      "outputs": []
    }
  ]
}